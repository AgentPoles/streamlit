{
 "cells": [
  {
   "cell_type": "code",
   "execution_count": 37,
   "metadata": {},
   "outputs": [],
   "source": [
    "import pandas as pd\n",
    "import xgboost as xgb\n",
    "from sklearn.model_selection import train_test_split\n",
    "from sklearn.metrics import mean_squared_error\n",
    "from sklearn.model_selection import GridSearchCV\n",
    "import matplotlib.pyplot as plt\n",
    "from sklearn.preprocessing import LabelEncoder\n",
    "import joblib"
   ]
  },
  {
   "cell_type": "code",
   "execution_count": 38,
   "metadata": {},
   "outputs": [],
   "source": [
    "data = pd.read_csv('../data/rent_lagos.csv')"
   ]
  },
  {
   "cell_type": "code",
   "execution_count": 39,
   "metadata": {},
   "outputs": [],
   "source": [
    "data = data.drop('address',axis=1)\n",
    "\n",
    "target = data['rent_per_annum']\n",
    "features = data.drop('rent_per_annum',axis=1)\n"
   ]
  },
  {
   "cell_type": "code",
   "execution_count": 40,
   "metadata": {},
   "outputs": [],
   "source": [
    "model = joblib.load('price_model.joblib')\n",
    "housing_encoder = joblib.load('housing_encoder.pk1')\n",
    "district_encoder = joblib.load('district_encoder.pk1')"
   ]
  },
  {
   "cell_type": "code",
   "execution_count": 41,
   "metadata": {},
   "outputs": [],
   "source": [
    "features['housing_type'] = housing_encoder.transform(features['housing_type'])\n",
    "features['district'] = district_encoder.transform(features['district'])"
   ]
  },
  {
   "cell_type": "code",
   "execution_count": 42,
   "metadata": {},
   "outputs": [
    {
     "data": {
      "text/html": [
       "<div>\n",
       "<style scoped>\n",
       "    .dataframe tbody tr th:only-of-type {\n",
       "        vertical-align: middle;\n",
       "    }\n",
       "\n",
       "    .dataframe tbody tr th {\n",
       "        vertical-align: top;\n",
       "    }\n",
       "\n",
       "    .dataframe thead th {\n",
       "        text-align: right;\n",
       "    }\n",
       "</style>\n",
       "<table border=\"1\" class=\"dataframe\">\n",
       "  <thead>\n",
       "    <tr style=\"text-align: right;\">\n",
       "      <th></th>\n",
       "      <th>housing_type</th>\n",
       "      <th>bedrooms</th>\n",
       "      <th>bathrooms</th>\n",
       "      <th>guest_toilet</th>\n",
       "      <th>parking_space</th>\n",
       "      <th>district</th>\n",
       "      <th>rent_per_annum</th>\n",
       "    </tr>\n",
       "  </thead>\n",
       "  <tbody>\n",
       "    <tr>\n",
       "      <th>0</th>\n",
       "      <td>flat / apartment</td>\n",
       "      <td>3</td>\n",
       "      <td>4</td>\n",
       "      <td>1</td>\n",
       "      <td>0</td>\n",
       "      <td>lekki</td>\n",
       "      <td>5000000.0</td>\n",
       "    </tr>\n",
       "    <tr>\n",
       "      <th>1</th>\n",
       "      <td>flat / apartment</td>\n",
       "      <td>2</td>\n",
       "      <td>2</td>\n",
       "      <td>1</td>\n",
       "      <td>0</td>\n",
       "      <td>lekki</td>\n",
       "      <td>3000000.0</td>\n",
       "    </tr>\n",
       "    <tr>\n",
       "      <th>2</th>\n",
       "      <td>flat / apartment</td>\n",
       "      <td>3</td>\n",
       "      <td>3</td>\n",
       "      <td>1</td>\n",
       "      <td>0</td>\n",
       "      <td>victoria island</td>\n",
       "      <td>4500000.0</td>\n",
       "    </tr>\n",
       "    <tr>\n",
       "      <th>3</th>\n",
       "      <td>flat / apartment</td>\n",
       "      <td>2</td>\n",
       "      <td>2</td>\n",
       "      <td>1</td>\n",
       "      <td>0</td>\n",
       "      <td>lekki</td>\n",
       "      <td>4000000.0</td>\n",
       "    </tr>\n",
       "    <tr>\n",
       "      <th>4</th>\n",
       "      <td>flat / apartment</td>\n",
       "      <td>2</td>\n",
       "      <td>2</td>\n",
       "      <td>0</td>\n",
       "      <td>2</td>\n",
       "      <td>lekki</td>\n",
       "      <td>3500000.0</td>\n",
       "    </tr>\n",
       "  </tbody>\n",
       "</table>\n",
       "</div>"
      ],
      "text/plain": [
       "       housing_type  bedrooms  bathrooms  guest_toilet  parking_space  \\\n",
       "0  flat / apartment         3          4             1              0   \n",
       "1  flat / apartment         2          2             1              0   \n",
       "2  flat / apartment         3          3             1              0   \n",
       "3  flat / apartment         2          2             1              0   \n",
       "4  flat / apartment         2          2             0              2   \n",
       "\n",
       "          district  rent_per_annum  \n",
       "0            lekki       5000000.0  \n",
       "1            lekki       3000000.0  \n",
       "2  victoria island       4500000.0  \n",
       "3            lekki       4000000.0  \n",
       "4            lekki       3500000.0  "
      ]
     },
     "execution_count": 42,
     "metadata": {},
     "output_type": "execute_result"
    }
   ],
   "source": [
    "data.head()"
   ]
  },
  {
   "cell_type": "code",
   "execution_count": 43,
   "metadata": {},
   "outputs": [
    {
     "data": {
      "text/plain": [
       "array(['lekki', 'victoria island', 'ojodu', 'yaba', 'surulere', 'ikoyi',\n",
       "       'ajah', 'gbagada', 'ikeja', 'ketu ogudu', 'ikeja gra', 'ogba',\n",
       "       'oshodi', 'ikotun', 'ketu shangisha', 'oregun', 'igando',\n",
       "       'allen avenue', 'agege', 'isolo', 'mushin', 'apapa', 'ketu ikosi',\n",
       "       'ikorodu', 'abule egba', 'oshodi ajao', 'ikeja adeniyi jones',\n",
       "       'opebi', 'oniru', 'oshodi mafoluku', 'isolo jakande',\n",
       "       'isolo ago palace', 'ejigbo', 'maryland', 'iju ishaga', 'festac',\n",
       "       'agbara', 'alimosho', 'okota', 'iju  ', 'idimu', 'alagbado',\n",
       "       'ketu ojota', 'irepo', 'iya ipaja', 'ijora ebute metta',\n",
       "       'lagos island', 'oke afa', 'ifako', 'badagry', 'agbado ijaiye',\n",
       "       'satellite town', 'onikan'], dtype=object)"
      ]
     },
     "execution_count": 43,
     "metadata": {},
     "output_type": "execute_result"
    }
   ],
   "source": [
    "unique_values = data['district'].unique()\n",
    "unique_values"
   ]
  },
  {
   "cell_type": "code",
   "execution_count": 44,
   "metadata": {},
   "outputs": [
    {
     "name": "stdout",
     "output_type": "stream",
     "text": [
      "   housing_type  bedrooms  bathrooms  guest_toilet  parking_space  district\n",
      "2             2         3          3             1              0        51\n"
     ]
    }
   ],
   "source": [
    "print(features.iloc[2:3])"
   ]
  },
  {
   "cell_type": "code",
   "execution_count": 45,
   "metadata": {},
   "outputs": [
    {
     "name": "stdout",
     "output_type": "stream",
     "text": [
      "[3334986.2] 4500000.0\n"
     ]
    }
   ],
   "source": [
    "index = 1\n",
    "response = model.predict(features.iloc[2:3])\n",
    "print(response, target[2])\n",
    "\n"
   ]
  }
 ],
 "metadata": {
  "kernelspec": {
   "display_name": "base",
   "language": "python",
   "name": "python3"
  },
  "language_info": {
   "codemirror_mode": {
    "name": "ipython",
    "version": 3
   },
   "file_extension": ".py",
   "mimetype": "text/x-python",
   "name": "python",
   "nbconvert_exporter": "python",
   "pygments_lexer": "ipython3",
   "version": "3.9.13"
  },
  "orig_nbformat": 4
 },
 "nbformat": 4,
 "nbformat_minor": 2
}
